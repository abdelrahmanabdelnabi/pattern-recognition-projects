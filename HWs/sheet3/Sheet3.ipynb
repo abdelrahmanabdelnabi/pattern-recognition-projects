{
 "cells": [
  {
   "cell_type": "markdown",
   "metadata": {},
   "source": [
    "# Sheet 3: Probabilistic Classification"
   ]
  },
  {
   "cell_type": "markdown",
   "metadata": {},
   "source": [
    "## Question 1.1"
   ]
  },
  {
   "cell_type": "markdown",
   "metadata": {},
   "source": [
    "we have categorical and numerical data so we bin the numerical data into categorical data. Let's denote the range (20-30) as Young (Y), (30-40) as Middle (M), and (40>) as Old (O).\n",
    "\n",
    "And the data become as follows:\n",
    "\n",
    "|$x_i$|Age|Car|Class|\n",
    "|:----:|:---:|:---:|:---:|\n",
    "|$x_1$|Y|sports|L|\n",
    "|$x_2$|Y|vintage|H|\n",
    "|$x_3$|Y|sports|L|\n",
    "|$x_4$|O|SUV|H|\n",
    "|$x_5$|Y|sports|H|\n",
    "|$x_6$|Y|SUV|H|\n",
    "\n",
    "Using the Full Bayes approach, the probabilities are\n",
    "$$P(L\\lvert(23, truck)) = P(L\\lvert(Y,truck)) \\propto P((Y,truck)\\lvert L)\\cdot P(L) =\\frac{0+1}{2+4\\times3}\\times\\frac{2}{6}=\\frac{1}{42}$$\n",
    "\n",
    "$$P(H\\lvert(23, truck)) =P(H\\lvert(Y,truck)) \\propto P((Y,truck)\\lvert H)\\cdot P(H) =\\frac{0+1}{4+4\\times3}\\times\\frac{4}{6}=\\frac{1}{24}$$\n",
    "\n",
    "The point is therefore classified as class H.\n",
    "\n",
    "Using the Naive Bayes approach, the probabilities are\n",
    "$$P(L\\lvert(23, truck)) = P(L\\lvert(Y,truck)) \\propto P(Y\\lvert L)\\cdot P(truck\\lvert L) \\cdot P(L) =\\frac{2}{2}\\times\\frac{0+1}{2+4}\\times\\frac{2}{6}=\\frac{1}{18}$$\n",
    "\n",
    "\n",
    "$$P(H\\lvert(23, truck)) =P(H\\lvert(Y,truck)) \\propto P(Y\\lvert H)\\cdot P(truck\\lvert H) \\cdot P(H) =\\frac{3}{4}\\times\\frac{0+1}{4+4}\\times\\frac{4}{6}=\\frac{1}{16}$$\n",
    "\n",
    "The point is therefore classified as class H.\n"
   ]
  },
  {
   "cell_type": "markdown",
   "metadata": {},
   "source": [
    "## Question 1.2"
   ]
  },
  {
   "cell_type": "markdown",
   "metadata": {},
   "source": [
    "Again for the numerical data we convert it to categorical. Here we consider each number as a separate category for simplicity, and so $\\lvert Dom(a_3)\\rvert = 7$\n",
    "\n",
    "Given the data point (T, F, 1.0) we classify it by the calculating the following probabilities.\n",
    "\n",
    "$$ \\begin{equation}\n",
    "\\begin{split}\n",
    "P(Y\\lvert (T,F,1.0))\n",
    "& = P(a_1=T\\lvert Y)\\cdot P(a_2=F\\lvert Y)\\cdot P(a_3=1.0\\lvert Y) \\cdot P(Y) \\\\\n",
    "& = \\frac{3}{4} \\times \\frac{2}{4} \\times \\frac{0+1}{4+7}\\times \\frac{4}{9} \\\\ & = \\frac{1}{66}\n",
    "\\end{split}\n",
    "\\end{equation}\n",
    "$$\n",
    "\n",
    "\n",
    "$$ \\begin{equation}\n",
    "\\begin{split}\n",
    "P(N\\lvert (T,F,1.0))\n",
    "& = P(a_1=T\\lvert N)\\cdot P(a_2=F\\lvert N)\\cdot P(a_3=1.0\\lvert N) \\cdot P(N) \\\\\n",
    "& = \\frac{1}{5} \\times \\frac{2}{5} \\times \\frac{2}{5}\\times \\frac{5}{9} \\\\ & = \\frac{4}{225}\n",
    "\\end{split}\n",
    "\\end{equation}\n",
    "$$\n",
    "\n",
    "The point is therefore classified as class N.\n"
   ]
  },
  {
   "cell_type": "markdown",
   "metadata": {},
   "source": [
    "## Question 1.3"
   ]
  },
  {
   "cell_type": "markdown",
   "metadata": {},
   "source": [
    "Probability of the sample $(3,4)$ belongs to class 1\n",
    "\n",
    "$$ P(C_1|(3,4)) = f_1(x)P(c_1) $$\n",
    "\n",
    "$$ \\Sigma = \\begin{bmatrix} \n",
    "5 & 3 \\\\\n",
    "3 & 2 \\\\\n",
    "\\end{bmatrix}\n",
    "$$\n",
    "\n",
    "$$ |\\Sigma| = 1 $$\n",
    "\n",
    "$$ \\Sigma^{-1} = \\begin{bmatrix} \n",
    "2 & -3 \\\\\n",
    "-3 & 5 \\\\\n",
    "\\end{bmatrix}\n",
    "$$\n",
    "\n",
    "$$(x-u_1)^T \\Sigma^{-1}(x-u_1) = \\begin{bmatrix} 2  & 1 \\\\ \\end{bmatrix} \\begin{bmatrix} 2 & -3 \\\\-3 & 5 \\\\ \\end{bmatrix} \\begin{bmatrix} 2 \\\\ 1 \\\\ \\end{bmatrix} = 1$$\n",
    "\n",
    "\n",
    "\n",
    "$$f_1(x) = \\frac{1}{2\\pi\\sqrt{1}}e^{-\\frac{1}{2}}$$\n",
    "\n",
    "$$P(c_1|x) = 0.5 \\times \\frac{1}{2\\pi}e^{-\\frac{1}{2}} = 0.04827$$"
   ]
  },
  {
   "cell_type": "markdown",
   "metadata": {},
   "source": [
    "Probability of the sample $(3,4)$ belongs to class 2\n",
    "\n",
    "$$ P(C_2|(3,4)) = f_2(x)P(c_2) $$\n",
    "\n",
    "$$ \\Sigma = \\begin{bmatrix} \n",
    "2 & 0 \\\\\n",
    "0 & 1 \\\\\n",
    "\\end{bmatrix}\n",
    "$$\n",
    "\n",
    "$$ |\\Sigma| = 2 $$\n",
    "\n",
    "$$ \\Sigma^{-1} = \\frac{1}{2}\\begin{bmatrix} 1 & 0 \\\\ 0 & 2 \\\\ \\end{bmatrix} = \\begin{bmatrix}  0.5 & 0 \\\\ 0 & 1 \\\\ \\end{bmatrix}$$\n",
    "\n",
    "$$(x-u_2)^T \\Sigma^{-1}(x-u_2) = \\begin{bmatrix} -2 & -1 \\\\ \\end{bmatrix} \\begin{bmatrix} 0.5 & 0 \\\\0 & 1 \\\\ \\end{bmatrix} \\begin{bmatrix} -2 \\\\ -1 \\\\ \\end{bmatrix} = 3$$\n",
    "\n",
    "\n",
    "\n",
    "$$f_1(x) = \\frac{1}{2\\pi\\sqrt{2}}e^{-\\frac{3}{2}}$$\n",
    "\n",
    "$$P(c_1|x) = 0.5 \\times \\frac{1}{2\\pi\\sqrt{2}}e^{-\\frac{3}{2}} = 0.01256$$"
   ]
  },
  {
   "cell_type": "markdown",
   "metadata": {},
   "source": [
    "$P(c_1|x)$ is greater than $P(c_2|x)$ so the point is classified as class 1"
   ]
  },
  {
   "cell_type": "markdown",
   "metadata": {},
   "source": [
    "## Question 2"
   ]
  },
  {
   "cell_type": "code",
   "execution_count": 2,
   "metadata": {},
   "outputs": [],
   "source": [
    "import numpy as np\n",
    "import re\n",
    "from matplotlib import pyplot as plt\n",
    "import os\n",
    "from numpy import linalg\n",
    "from sklearn.neighbors import NearestNeighbors\n",
    "from mpl_toolkits.mplot3d import Axes3D\n",
    "from scipy.stats import norm\n",
    "from math import sqrt,exp,pi\n",
    "import itertools\n",
    "\n",
    "from mpmath import mpf, mpc, mp\n",
    "mpf.dps = 1000\n",
    "\n",
    "# print images/plots in the notebook itself\n",
    "%matplotlib inline"
   ]
  },
  {
   "cell_type": "code",
   "execution_count": 166,
   "metadata": {
    "collapsed": true
   },
   "outputs": [],
   "source": [
    "# reference:\n",
    "# http://scikit-learn.org/stable/auto_examples/model_selection/plot_confusion_matrix.html\n",
    "def plot_confusion_matrix(cm, classes):\n",
    "    org_size = plt.rcParams['figure.figsize']\n",
    "    plt.rcParams['figure.figsize'] = (16, 14)\n",
    "\n",
    "    cmap=plt.cm.Blues\n",
    "    title = 'Confusion Matrix'\n",
    "    plt.imshow(cm, interpolation='nearest', cmap=cmap)\n",
    "    plt.title(title)\n",
    "    plt.colorbar()\n",
    "    tick_marks = np.arange(len(classes))\n",
    "    plt.xticks(tick_marks, classes, rotation=45)\n",
    "    plt.yticks(tick_marks, classes)\n",
    "\n",
    "    thresh = cm.max() / 2.\n",
    "    for i, j in itertools.product(range(cm.shape[0]), range(cm.shape[1])):\n",
    "        plt.text(j, i, format(int(cm[i, j])),\n",
    "                 horizontalalignment=\"center\",\n",
    "                 color=\"white\" if cm[i, j] > thresh else \"black\")\n",
    "    \n",
    "    plt.tight_layout()\n",
    "    plt.ylabel('Predicted label')\n",
    "    plt.xlabel('True label')\n",
    "    \n",
    "    # restore orginal plotting size\n",
    "    plt.rcParams['figure.figsize'] = org_size\n"
   ]
  },
  {
   "cell_type": "code",
   "execution_count": 9,
   "metadata": {
    "collapsed": true
   },
   "outputs": [],
   "source": [
    "def read_pgm(filename, byteorder='>'):\n",
    "    \"\"\"Return image data from a raw PGM file as numpy array.\n",
    "\n",
    "    Format specification: http://netpbm.sourceforge.net/doc/pgm.html\n",
    "\n",
    "    \"\"\"\n",
    "    with open(filename, 'rb') as f:\n",
    "        buffer = f.read()\n",
    "    try:\n",
    "        header, width, height, maxval = re.search(\n",
    "            b\"(^P5\\s(?:\\s*#.*[\\r\\n])*\"\n",
    "            b\"(\\d+)\\s(?:\\s*#.*[\\r\\n])*\"\n",
    "            b\"(\\d+)\\s(?:\\s*#.*[\\r\\n])*\"\n",
    "            b\"(\\d+)\\s(?:\\s*#.*[\\r\\n]\\s)*)\", buffer).groups()\n",
    "    except AttributeError:\n",
    "        raise ValueError(\"Not a raw PGM file: '%s'\" % filename)\n",
    "    return np.frombuffer(buffer,\n",
    "                            dtype='u1' if int(maxval) < 256 else byteorder+'u2',\n",
    "                            count=int(width)*int(height),\n",
    "                            offset=len(header)\n",
    "                            ).reshape((int(height), int(width)))\n"
   ]
  },
  {
   "cell_type": "code",
   "execution_count": 11,
   "metadata": {},
   "outputs": [],
   "source": [
    "# import the face data\n",
    "images = []\n",
    "labels = []\n",
    "\n",
    "# path to dataset\n",
    "path = '../face recognition assignment/orl_faces'\n",
    "dirnames = os.listdir(path)\n",
    "dirnames.remove('README')\n",
    "\n",
    "# sort directories by number to get the labels vector correct\n",
    "dirnames.sort(key=lambda f: int(filter(str.isdigit, f)))\n",
    "\n",
    "idx = 1\n",
    "# for each folder (person), read his 10 images\n",
    "for person_dir in dirnames:\n",
    "    person_dir = os.path.join(path, person_dir)\n",
    "    for img_file in os.listdir(person_dir):\n",
    "        img = read_pgm(os.path.join(person_dir, img_file))\n",
    "        img_vec = np.hstack(img)\n",
    "        images.append(img_vec)\n",
    "        labels.append(idx)\n",
    "    idx += 1\n"
   ]
  },
  {
   "cell_type": "code",
   "execution_count": 19,
   "metadata": {
    "collapsed": true
   },
   "outputs": [],
   "source": [
    "train_data = images[0::2]\n",
    "test_data = images[1::2]\n",
    "train_labels = labels[0::2]\n",
    "test_labels = labels[1::2]"
   ]
  },
  {
   "cell_type": "code",
   "execution_count": 27,
   "metadata": {},
   "outputs": [],
   "source": [
    "def list_to_dict(li):\n",
    "    dct = {}\n",
    "    for item in li:\n",
    "        if item in dct:\n",
    "            continue\n",
    "        else:\n",
    "            dct[item] = []\n",
    "    return dct"
   ]
  },
  {
   "cell_type": "code",
   "execution_count": 58,
   "metadata": {
    "collapsed": true
   },
   "outputs": [],
   "source": [
    "# returns a dict of labels (class names) to a 3-tuples, where each tuple\n",
    "# is of the form (class_prior, class_mean, class_variance).\n",
    "# The code implements the algorithm in the book\n",
    "def NaiveBayes(data, labels):\n",
    "    # build class-specific subsets\n",
    "    class_data = list_to_dict(labels)\n",
    "    for i in range(len(data)):\n",
    "        label = labels[i]\n",
    "        class_data[label].append(data[i])\n",
    "    \n",
    "    # Convert class-specific subsets to np matrix\n",
    "    for label in class_data:\n",
    "        temp = class_data[label]\n",
    "        class_data[label] = np.array(temp).reshape(len(temp), len(temp[0]))\n",
    "    \n",
    "    model = list_to_dict(labels)\n",
    "    \n",
    "    for label in class_data:\n",
    "        subset = class_data[label]\n",
    "        class_size = len(subset)\n",
    "        class_prior = float(class_size)/len(data)\n",
    "        class_mean = np.mean(subset, axis = 0)\n",
    "        class_centered_data = subset - class_mean\n",
    "        class_variance = []\n",
    "        dimensions = len(data[0])\n",
    "        for d in range(dimensions):\n",
    "            # get the d_th dimension vector (of the i_th class)\n",
    "            class_dim_d = class_centered_data[:,d]\n",
    "            # calculate the variance in the d_th dimension\n",
    "            var_i_d = class_dim_d.dot(class_dim_d.T)/class_size\n",
    "            class_variance.append(var_i_d)\n",
    "        class_variance = np.array(class_variance).T\n",
    "        \n",
    "        model[label] = (class_prior, class_mean, class_variance)\n",
    "    \n",
    "    return model\n"
   ]
  },
  {
   "cell_type": "code",
   "execution_count": 137,
   "metadata": {
    "collapsed": true
   },
   "outputs": [],
   "source": [
    "def gaussian_prob(variance_vec, centered_data_vec):\n",
    "    assert len(variance_vec) == len(centered_data_vec)\n",
    "    # floating point with very high precision to store the very small probabilities\n",
    "    prob = mpf(1)\n",
    "    for d in range(len(variance_vec)):\n",
    "        point = centered_data_vec[d]\n",
    "        var = variance_vec[d]\n",
    "        # we ignore the case where the variance is zero\n",
    "        # since it will cause division by zero or make\n",
    "        # the probability zero if the point doesn't match the mean exactly\n",
    "        if var == 0:\n",
    "            continue\n",
    "        else:\n",
    "            prob *= mpf(math.exp((-1*point**2)/(2*var))/sqrt(2*pi*var))\n",
    "    return prob"
   ]
  },
  {
   "cell_type": "code",
   "execution_count": 217,
   "metadata": {
    "collapsed": true
   },
   "outputs": [],
   "source": [
    "def Naive_Classify(model, data_point):\n",
    "    best_match_label = -1\n",
    "    best_prob = -1\n",
    "    \n",
    "    for label in model:\n",
    "        (prior, mean, variance) = model[label]\n",
    "        centered_point = data_point - mean\n",
    "        prob = mpf(prior) * mpf(gaussian_prob(variance, centered_point))\n",
    "        print prob\n",
    "        if prob > best_prob:\n",
    "            best_prob = prob\n",
    "            best_match_label = label\n",
    "    \n",
    "    return best_match_label"
   ]
  },
  {
   "cell_type": "markdown",
   "metadata": {},
   "source": [
    "### Fitting the model"
   ]
  },
  {
   "cell_type": "code",
   "execution_count": 59,
   "metadata": {},
   "outputs": [
    {
     "name": "stdout",
     "output_type": "stream",
     "text": [
      "(0.025, array([ 51.6,  51. ,  43. , ...,  64.2,  57.2,  62. ]), array([   69.04,    30.8 ,   110.8 , ...,  2223.76,  2454.16,  2911.6 ]))\n"
     ]
    }
   ],
   "source": [
    "model = NaiveBayes(train_data, train_labels)"
   ]
  },
  {
   "cell_type": "markdown",
   "metadata": {},
   "source": [
    "### Classifying using the Naive Bayes on the full data (unprojected)"
   ]
  },
  {
   "cell_type": "code",
   "execution_count": 141,
   "metadata": {},
   "outputs": [
    {
     "name": "stdout",
     "output_type": "stream",
     "text": [
      "predicted 1, actual is 1\n",
      "predicted 1, actual is 1\n",
      "predicted 1, actual is 1\n",
      "predicted 1, actual is 1\n",
      "predicted 1, actual is 1\n",
      "predicted 36, actual is 2\n",
      "predicted 2, actual is 2\n",
      "predicted 36, actual is 2\n",
      "predicted 36, actual is 2\n",
      "predicted 36, actual is 2\n",
      "predicted 3, actual is 3\n",
      "predicted 3, actual is 3\n",
      "predicted 28, actual is 3\n",
      "predicted 3, actual is 3\n",
      "predicted 3, actual is 3\n",
      "predicted 36, actual is 4\n",
      "predicted 4, actual is 4\n",
      "predicted 3, actual is 4\n",
      "predicted 4, actual is 4\n",
      "predicted 16, actual is 4\n",
      "predicted 5, actual is 5\n",
      "predicted 5, actual is 5\n",
      "predicted 5, actual is 5\n",
      "predicted 5, actual is 5\n",
      "predicted 5, actual is 5\n",
      "predicted 6, actual is 6\n",
      "predicted 6, actual is 6\n",
      "predicted 6, actual is 6\n",
      "predicted 1, actual is 6\n",
      "predicted 1, actual is 6\n",
      "predicted 36, actual is 7\n",
      "predicted 36, actual is 7\n",
      "predicted 36, actual is 7\n",
      "predicted 36, actual is 7\n",
      "predicted 7, actual is 7\n",
      "predicted 8, actual is 8\n",
      "predicted 8, actual is 8\n",
      "predicted 8, actual is 8\n",
      "predicted 8, actual is 8\n",
      "predicted 8, actual is 8\n",
      "predicted 31, actual is 9\n",
      "predicted 9, actual is 9\n",
      "predicted 31, actual is 9\n",
      "predicted 23, actual is 9\n",
      "predicted 9, actual is 9\n",
      "predicted 36, actual is 10\n",
      "predicted 10, actual is 10\n",
      "predicted 16, actual is 10\n",
      "predicted 10, actual is 10\n",
      "predicted 16, actual is 10\n",
      "predicted 11, actual is 11\n",
      "predicted 11, actual is 11\n",
      "predicted 28, actual is 11\n",
      "predicted 28, actual is 11\n",
      "predicted 11, actual is 11\n",
      "predicted 12, actual is 12\n",
      "predicted 12, actual is 12\n",
      "predicted 35, actual is 12\n",
      "predicted 12, actual is 12\n",
      "predicted 12, actual is 12\n",
      "predicted 13, actual is 13\n",
      "predicted 28, actual is 13\n",
      "predicted 13, actual is 13\n",
      "predicted 13, actual is 13\n",
      "predicted 13, actual is 13\n",
      "predicted 36, actual is 14\n",
      "predicted 14, actual is 14\n",
      "predicted 28, actual is 14\n",
      "predicted 14, actual is 14\n",
      "predicted 14, actual is 14\n",
      "predicted 15, actual is 15\n",
      "predicted 15, actual is 15\n",
      "predicted 15, actual is 15\n",
      "predicted 15, actual is 15\n",
      "predicted 15, actual is 15\n",
      "predicted 16, actual is 16\n",
      "predicted 16, actual is 16\n",
      "predicted 16, actual is 16\n",
      "predicted 1, actual is 16\n",
      "predicted 16, actual is 16\n",
      "predicted 16, actual is 17\n",
      "predicted 17, actual is 17\n",
      "predicted 17, actual is 17\n",
      "predicted 1, actual is 17\n",
      "predicted 1, actual is 17\n",
      "predicted 40, actual is 18\n",
      "predicted 40, actual is 18\n",
      "predicted 18, actual is 18\n",
      "predicted 18, actual is 18\n",
      "predicted 18, actual is 18\n",
      "predicted 16, actual is 19\n",
      "predicted 28, actual is 19\n",
      "predicted 19, actual is 19\n",
      "predicted 19, actual is 19\n",
      "predicted 16, actual is 19\n",
      "predicted 20, actual is 20\n",
      "predicted 20, actual is 20\n",
      "predicted 36, actual is 20\n",
      "predicted 36, actual is 20\n",
      "predicted 36, actual is 20\n",
      "predicted 21, actual is 21\n",
      "predicted 21, actual is 21\n",
      "predicted 21, actual is 21\n",
      "predicted 21, actual is 21\n",
      "predicted 21, actual is 21\n",
      "predicted 22, actual is 22\n",
      "predicted 22, actual is 22\n",
      "predicted 28, actual is 22\n",
      "predicted 22, actual is 22\n",
      "predicted 22, actual is 22\n",
      "predicted 23, actual is 23\n",
      "predicted 33, actual is 23\n",
      "predicted 23, actual is 23\n",
      "predicted 23, actual is 23\n",
      "predicted 23, actual is 23\n",
      "predicted 36, actual is 24\n",
      "predicted 36, actual is 24\n",
      "predicted 16, actual is 24\n",
      "predicted 24, actual is 24\n",
      "predicted 24, actual is 24\n",
      "predicted 25, actual is 25\n",
      "predicted 25, actual is 25\n",
      "predicted 28, actual is 25\n",
      "predicted 25, actual is 25\n",
      "predicted 25, actual is 25\n",
      "predicted 26, actual is 26\n",
      "predicted 26, actual is 26\n",
      "predicted 26, actual is 26\n",
      "predicted 28, actual is 26\n",
      "predicted 26, actual is 26\n",
      "predicted 16, actual is 27\n",
      "predicted 27, actual is 27\n",
      "predicted 27, actual is 27\n",
      "predicted 16, actual is 27\n",
      "predicted 27, actual is 27\n",
      "predicted 28, actual is 28\n",
      "predicted 28, actual is 28\n",
      "predicted 28, actual is 28\n",
      "predicted 28, actual is 28\n",
      "predicted 28, actual is 28\n",
      "predicted 33, actual is 29\n",
      "predicted 29, actual is 29\n",
      "predicted 29, actual is 29\n",
      "predicted 29, actual is 29\n",
      "predicted 29, actual is 29\n",
      "predicted 30, actual is 30\n",
      "predicted 33, actual is 30\n",
      "predicted 30, actual is 30\n",
      "predicted 30, actual is 30\n",
      "predicted 21, actual is 30\n",
      "predicted 1, actual is 31\n",
      "predicted 31, actual is 31\n",
      "predicted 31, actual is 31\n",
      "predicted 31, actual is 31\n",
      "predicted 31, actual is 31\n",
      "predicted 32, actual is 32\n",
      "predicted 28, actual is 32\n",
      "predicted 28, actual is 32\n",
      "predicted 36, actual is 32\n",
      "predicted 32, actual is 32\n",
      "predicted 33, actual is 33\n",
      "predicted 33, actual is 33\n",
      "predicted 33, actual is 33\n",
      "predicted 33, actual is 33\n",
      "predicted 33, actual is 33\n",
      "predicted 34, actual is 34\n",
      "predicted 36, actual is 34\n",
      "predicted 1, actual is 34\n",
      "predicted 28, actual is 34\n",
      "predicted 36, actual is 34\n",
      "predicted 35, actual is 35\n",
      "predicted 35, actual is 35\n",
      "predicted 35, actual is 35\n",
      "predicted 35, actual is 35\n",
      "predicted 35, actual is 35\n",
      "predicted 36, actual is 36\n",
      "predicted 36, actual is 36\n",
      "predicted 36, actual is 36\n",
      "predicted 36, actual is 36\n",
      "predicted 36, actual is 36\n",
      "predicted 28, actual is 37\n",
      "predicted 28, actual is 37\n",
      "predicted 37, actual is 37\n",
      "predicted 28, actual is 37\n",
      "predicted 37, actual is 37\n",
      "predicted 33, actual is 38\n",
      "predicted 38, actual is 38\n",
      "predicted 38, actual is 38\n",
      "predicted 38, actual is 38\n",
      "predicted 16, actual is 38\n",
      "predicted 33, actual is 39\n",
      "predicted 39, actual is 39\n",
      "predicted 39, actual is 39\n",
      "predicted 39, actual is 39\n",
      "predicted 39, actual is 39\n",
      "predicted 35, actual is 40\n",
      "predicted 40, actual is 40\n",
      "predicted 40, actual is 40\n",
      "predicted 5, actual is 40\n",
      "predicted 28, actual is 40\n",
      "66.5\n"
     ]
    }
   ],
   "source": [
    "correct = 0\n",
    "conf_matrix = np.zeros([41, 41])\n",
    "for i in range(len(test_data)):\n",
    "    predicted = Naive_Classify(model, test_data[i])\n",
    "    actual = test_labels[i]\n",
    "    conf_matrix[predicted][actual] += 1\n",
    "    print \"predicted {}, actual is {}\".format(predicted, actual)\n",
    "    if predicted == actual:\n",
    "        correct += 1"
   ]
  },
  {
   "cell_type": "code",
   "execution_count": 193,
   "metadata": {},
   "outputs": [
    {
     "name": "stdout",
     "output_type": "stream",
     "text": [
      "accuracy: 66.5\n"
     ]
    }
   ],
   "source": [
    "print \"accuracy: {}\".format(100*(correct/float(len(test_data))))"
   ]
  },
  {
   "cell_type": "code",
   "execution_count": 142,
   "metadata": {},
   "outputs": [],
   "source": [
    "conf = np.delete(conf_matrix, 0, 0)\n",
    "conf = np.delete(conf, 0, 1)"
   ]
  },
  {
   "cell_type": "code",
   "execution_count": 143,
   "metadata": {},
   "outputs": [
    {
     "name": "stdout",
     "output_type": "stream",
     "text": [
      "(40L, 40L)\n"
     ]
    }
   ],
   "source": [
    "print conf.shape"
   ]
  },
  {
   "cell_type": "code",
   "execution_count": 150,
   "metadata": {},
   "outputs": [],
   "source": [
    "plt.rcParams['figure.figsize'] = (16, 14)\n"
   ]
  },
  {
   "cell_type": "code",
   "execution_count": 155,
   "metadata": {},
   "outputs": [
    {
     "data": {
      "image/png": "[encoded data removed]",
      "text/plain": [
       "<matplotlib.figure.Figure at 0x11f075f8>"
      ]
     },
     "metadata": {},
     "output_type": "display_data"
    }
   ],
   "source": [
    "class_labels = range(1, 41)\n",
    "plot_confusion_matrix(conf, class_labels)"
   ]
  },
  {
   "cell_type": "markdown",
   "metadata": {},
   "source": [
    "The accuarcy of the Naive Classifier is small, $66.5\\%$, which is expected because each dimensions represents a pixel. We are comparing the indvidual pixels of the unlabeled image with each class. Individual pixels don't have a meaning and they don't reflect similarity and therefore the accuracy will be small. More over, the naive bayes classifier also ignores covariance between dimensions, which  For example, variations in the background of the photos of the faces can serverely reduce the classification accuracy since the varitions in the pixel of the background will affect the probability of the given unlabeled image belonging to a specific class.\n",
    "\n",
    "The confusion matrix, as expected, has it highest values in the diagonals as they show matches of the predicted and actual values. Also from the matrix we can see that images of classes (persons) 1, 16, 28, and 36 confuses the classifer.\n",
    "\n",
    "Although projecting to 40 dimensions will only explain $81.5\\%$ of the variance (as shown later), we should expect to get a much better accuracy after projecting the data into a lower dimension using PCA, since each component (dimension) in the reduced space have a meaning (eigenfaces). Also, these are components which have the most variance. Each dimensions represents an eigenface, and therefore when we compare two images, we are comparing there components on the eigenfaces, not the individual pixels."
   ]
  },
  {
   "cell_type": "code",
   "execution_count": 156,
   "metadata": {},
   "outputs": [],
   "source": [
    "# faces of people that confuse the classifier\n",
    "# plt.rcParams['figure.figsize'] = (8, 6)\n",
    "\n",
    "# plt.imshow(images[(1-1)*10].reshape(112, 92), plt.cm.gray)\n",
    "# plt.show()\n",
    "# plt.imshow(images[(16-1)*10].reshape(112, 92), plt.cm.gray)\n",
    "# plt.show()\n",
    "# plt.imshow(images[(28-1)*10].reshape(112, 92), plt.cm.gray)\n",
    "# plt.show()\n",
    "# plt.imshow(images[(36-1)*10].reshape(112, 92), plt.cm.gray)\n",
    "# plt.show()"
   ]
  },
  {
   "cell_type": "markdown",
   "metadata": {},
   "source": [
    "### Projecting the data using PCA before classification"
   ]
  },
  {
   "cell_type": "code",
   "execution_count": 124,
   "metadata": {
    "collapsed": true
   },
   "outputs": [],
   "source": [
    "def project(prj_mat, train_data, test_data):\n",
    "    prj_mat = prj_mat.T\n",
    "\n",
    "    prj_train = np.dot(train_data, prj_mat)\n",
    "    prj_test = np.dot(test_data, prj_mat)\n",
    "    return prj_train, prj_test"
   ]
  },
  {
   "cell_type": "code",
   "execution_count": 125,
   "metadata": {
    "collapsed": true
   },
   "outputs": [],
   "source": [
    "def center_data(train_data):\n",
    "    mean = np.mean(train_data, axis=0)\n",
    "    centered_data = train_data - mean\n",
    "    return mean, centered_data"
   ]
  },
  {
   "cell_type": "code",
   "execution_count": 126,
   "metadata": {
    "collapsed": true
   },
   "outputs": [],
   "source": [
    "mean, images_centered = center_data(train_data)"
   ]
  },
  {
   "cell_type": "code",
   "execution_count": 128,
   "metadata": {
    "collapsed": true
   },
   "outputs": [],
   "source": [
    "covariance = (images_centered.T.dot(images_centered))/len(train_data)"
   ]
  },
  {
   "cell_type": "code",
   "execution_count": 129,
   "metadata": {},
   "outputs": [],
   "source": [
    "pca_evalues, pca_evectors = linalg.eigh(covariance)"
   ]
  },
  {
   "cell_type": "code",
   "execution_count": 130,
   "metadata": {
    "collapsed": true
   },
   "outputs": [],
   "source": [
    "idx = pca_evalues.argsort()[::-1]\n",
    "pca_evalues = pca_evalues[idx]\n",
    "pca_evectors = pca_evectors[:,idx]"
   ]
  },
  {
   "cell_type": "code",
   "execution_count": 132,
   "metadata": {},
   "outputs": [],
   "source": [
    "prj_mat = np.vstack(pca_evectors.T[0:40])\n",
    "prj_train, prj_test = project(prj_mat, train_data, test_data)"
   ]
  },
  {
   "cell_type": "code",
   "execution_count": 157,
   "metadata": {},
   "outputs": [
    {
     "name": "stdout",
     "output_type": "stream",
     "text": [
      "epxlained variance: 0.816401351426\n"
     ]
    }
   ],
   "source": [
    "exp_var = sum(pca_evalues[0:40])/sum(pca_evalues)\n",
    "print \"epxlained variance: {}\".format(exp_var)"
   ]
  },
  {
   "cell_type": "code",
   "execution_count": 133,
   "metadata": {
    "collapsed": true
   },
   "outputs": [],
   "source": [
    "model_after_ca = NaiveBayes(prj_train, train_labels)"
   ]
  },
  {
   "cell_type": "code",
   "execution_count": 162,
   "metadata": {},
   "outputs": [
    {
     "name": "stdout",
     "output_type": "stream",
     "text": [
      "predicted 17, actual is 1\n",
      "predicted 1, actual is 1\n",
      "predicted 1, actual is 1\n",
      "predicted 1, actual is 1\n",
      "predicted 1, actual is 1\n",
      "predicted 2, actual is 2\n",
      "predicted 2, actual is 2\n",
      "predicted 2, actual is 2\n",
      "predicted 2, actual is 2\n",
      "predicted 11, actual is 2\n",
      "predicted 3, actual is 3\n",
      "predicted 3, actual is 3\n",
      "predicted 25, actual is 3\n",
      "predicted 3, actual is 3\n",
      "predicted 3, actual is 3\n",
      "predicted 4, actual is 4\n",
      "predicted 4, actual is 4\n",
      "predicted 4, actual is 4\n",
      "predicted 4, actual is 4\n",
      "predicted 4, actual is 4\n",
      "predicted 1, actual is 5\n",
      "predicted 40, actual is 5\n",
      "predicted 5, actual is 5\n",
      "predicted 5, actual is 5\n",
      "predicted 5, actual is 5\n",
      "predicted 6, actual is 6\n",
      "predicted 6, actual is 6\n",
      "predicted 6, actual is 6\n",
      "predicted 6, actual is 6\n",
      "predicted 1, actual is 6\n",
      "predicted 7, actual is 7\n",
      "predicted 7, actual is 7\n",
      "predicted 7, actual is 7\n",
      "predicted 7, actual is 7\n",
      "predicted 7, actual is 7\n",
      "predicted 8, actual is 8\n",
      "predicted 8, actual is 8\n",
      "predicted 8, actual is 8\n",
      "predicted 8, actual is 8\n",
      "predicted 8, actual is 8\n",
      "predicted 16, actual is 9\n",
      "predicted 9, actual is 9\n",
      "predicted 9, actual is 9\n",
      "predicted 9, actual is 9\n",
      "predicted 9, actual is 9\n",
      "predicted 36, actual is 10\n",
      "predicted 10, actual is 10\n",
      "predicted 10, actual is 10\n",
      "predicted 10, actual is 10\n",
      "predicted 16, actual is 10\n",
      "predicted 11, actual is 11\n",
      "predicted 11, actual is 11\n",
      "predicted 11, actual is 11\n",
      "predicted 11, actual is 11\n",
      "predicted 11, actual is 11\n",
      "predicted 12, actual is 12\n",
      "predicted 12, actual is 12\n",
      "predicted 12, actual is 12\n",
      "predicted 12, actual is 12\n",
      "predicted 12, actual is 12\n",
      "predicted 13, actual is 13\n",
      "predicted 13, actual is 13\n",
      "predicted 13, actual is 13\n",
      "predicted 13, actual is 13\n",
      "predicted 13, actual is 13\n",
      "predicted 14, actual is 14\n",
      "predicted 14, actual is 14\n",
      "predicted 14, actual is 14\n",
      "predicted 14, actual is 14\n",
      "predicted 14, actual is 14\n",
      "predicted 15, actual is 15\n",
      "predicted 15, actual is 15\n",
      "predicted 15, actual is 15\n",
      "predicted 15, actual is 15\n",
      "predicted 15, actual is 15\n",
      "predicted 16, actual is 16\n",
      "predicted 16, actual is 16\n",
      "predicted 16, actual is 16\n",
      "predicted 16, actual is 16\n",
      "predicted 16, actual is 16\n",
      "predicted 17, actual is 17\n",
      "predicted 17, actual is 17\n",
      "predicted 17, actual is 17\n",
      "predicted 17, actual is 17\n",
      "predicted 17, actual is 17\n",
      "predicted 1, actual is 18\n",
      "predicted 18, actual is 18\n",
      "predicted 18, actual is 18\n",
      "predicted 18, actual is 18\n",
      "predicted 18, actual is 18\n",
      "predicted 16, actual is 19\n",
      "predicted 19, actual is 19\n",
      "predicted 19, actual is 19\n",
      "predicted 19, actual is 19\n",
      "predicted 16, actual is 19\n",
      "predicted 20, actual is 20\n",
      "predicted 20, actual is 20\n",
      "predicted 20, actual is 20\n",
      "predicted 20, actual is 20\n",
      "predicted 20, actual is 20\n",
      "predicted 21, actual is 21\n",
      "predicted 21, actual is 21\n",
      "predicted 21, actual is 21\n",
      "predicted 21, actual is 21\n",
      "predicted 21, actual is 21\n",
      "predicted 22, actual is 22\n",
      "predicted 22, actual is 22\n",
      "predicted 22, actual is 22\n",
      "predicted 22, actual is 22\n",
      "predicted 22, actual is 22\n",
      "predicted 23, actual is 23\n",
      "predicted 1, actual is 23\n",
      "predicted 29, actual is 23\n",
      "predicted 23, actual is 23\n",
      "predicted 23, actual is 23\n",
      "predicted 24, actual is 24\n",
      "predicted 36, actual is 24\n",
      "predicted 16, actual is 24\n",
      "predicted 24, actual is 24\n",
      "predicted 24, actual is 24\n",
      "predicted 25, actual is 25\n",
      "predicted 25, actual is 25\n",
      "predicted 25, actual is 25\n",
      "predicted 25, actual is 25\n",
      "predicted 25, actual is 25\n",
      "predicted 26, actual is 26\n",
      "predicted 26, actual is 26\n",
      "predicted 26, actual is 26\n",
      "predicted 28, actual is 26\n",
      "predicted 26, actual is 26\n",
      "predicted 27, actual is 27\n",
      "predicted 27, actual is 27\n",
      "predicted 27, actual is 27\n",
      "predicted 11, actual is 27\n",
      "predicted 27, actual is 27\n",
      "predicted 28, actual is 28\n",
      "predicted 28, actual is 28\n",
      "predicted 28, actual is 28\n",
      "predicted 28, actual is 28\n",
      "predicted 28, actual is 28\n",
      "predicted 29, actual is 29\n",
      "predicted 29, actual is 29\n",
      "predicted 29, actual is 29\n",
      "predicted 29, actual is 29\n",
      "predicted 29, actual is 29\n",
      "predicted 30, actual is 30\n",
      "predicted 38, actual is 30\n",
      "predicted 39, actual is 30\n",
      "predicted 30, actual is 30\n",
      "predicted 30, actual is 30\n",
      "predicted 31, actual is 31\n",
      "predicted 31, actual is 31\n",
      "predicted 31, actual is 31\n",
      "predicted 21, actual is 31\n",
      "predicted 31, actual is 31\n",
      "predicted 32, actual is 32\n",
      "predicted 32, actual is 32\n",
      "predicted 32, actual is 32\n",
      "predicted 32, actual is 32\n",
      "predicted 32, actual is 32\n",
      "predicted 33, actual is 33\n",
      "predicted 33, actual is 33\n",
      "predicted 33, actual is 33\n",
      "predicted 33, actual is 33\n",
      "predicted 33, actual is 33\n",
      "predicted 34, actual is 34\n",
      "predicted 34, actual is 34\n",
      "predicted 34, actual is 34\n",
      "predicted 16, actual is 34\n",
      "predicted 34, actual is 34\n",
      "predicted 1, actual is 35\n",
      "predicted 40, actual is 35\n",
      "predicted 1, actual is 35\n",
      "predicted 35, actual is 35\n",
      "predicted 1, actual is 35\n",
      "predicted 36, actual is 36\n",
      "predicted 36, actual is 36\n",
      "predicted 36, actual is 36\n",
      "predicted 36, actual is 36\n",
      "predicted 36, actual is 36\n",
      "predicted 28, actual is 37\n",
      "predicted 28, actual is 37\n",
      "predicted 37, actual is 37\n",
      "predicted 28, actual is 37\n",
      "predicted 37, actual is 37\n",
      "predicted 38, actual is 38\n",
      "predicted 38, actual is 38\n",
      "predicted 38, actual is 38\n",
      "predicted 38, actual is 38\n",
      "predicted 38, actual is 38\n",
      "predicted 39, actual is 39\n",
      "predicted 39, actual is 39\n",
      "predicted 39, actual is 39\n",
      "predicted 39, actual is 39\n",
      "predicted 39, actual is 39\n",
      "predicted 40, actual is 40\n",
      "predicted 40, actual is 40\n",
      "predicted 40, actual is 40\n",
      "predicted 40, actual is 40\n",
      "predicted 1, actual is 40\n",
      "accurarcy: 85.0\n"
     ]
    }
   ],
   "source": [
    "match = 0\n",
    "conf_matrix_after = np.zeros([41, 41])\n",
    "for i in range(len(prj_test)):\n",
    "    predicted = Naive_Classify(model_after_ca, prj_test[i])\n",
    "    actual = test_labels[i]\n",
    "    conf_matrix_after[predicted][actual] += 1\n",
    "    print \"predicted {}, actual is {}\".format(predicted, actual)\n",
    "    if predicted == actual:\n",
    "        match += 1"
   ]
  },
  {
   "cell_type": "code",
   "execution_count": 164,
   "metadata": {},
   "outputs": [
    {
     "name": "stdout",
     "output_type": "stream",
     "text": [
      "accurarcy: 85.0\n"
     ]
    }
   ],
   "source": [
    "accuracy = 100*match/float(len(prj_test))\n",
    "print (\"accurarcy: {}\".format(accuracy))"
   ]
  },
  {
   "cell_type": "code",
   "execution_count": 167,
   "metadata": {},
   "outputs": [
    {
     "data": {
      "image/png": "[encoded data removed]",
      "text/plain": [
       "<matplotlib.figure.Figure at 0x26b6a5f8>"
      ]
     },
     "metadata": {},
     "output_type": "display_data"
    }
   ],
   "source": [
    "conf_after = np.delete(conf_matrix_after, 0, 0)\n",
    "conf_after = np.delete(conf_after, 0, 1)\n",
    "plot_confusion_matrix(conf_after, class_labels)"
   ]
  },
  {
   "cell_type": "markdown",
   "metadata": {},
   "source": [
    "As we expected, the classification accuracy after projection is higher than that before the projection, because now each dimension represents an eigenface instead of just a pixel, which makes dimensions a more meaningful measure of comparing images. The confusion matrix is more concentrated in the diagonal now since the accuarcy has increased. We also notice that, like before projection, persons number 1 and 16 still somewhat confuses the classifier, but persons 28 and 36 no longer confuses the classifier as before."
   ]
  },
  {
   "cell_type": "markdown",
   "metadata": {},
   "source": [
    "## Question 3: Midterm 2 question"
   ]
  },
  {
   "cell_type": "code",
   "execution_count": 5,
   "metadata": {},
   "outputs": [],
   "source": [
    "q3_data = np.array([[2,6],[3,5],[4,4],[5,3],[6,2],[6,4],[6,6],\n",
    "        [8,4],[9,2],[9,3],[3,3],[4,3],[4,5],[5,5],[7,3],[7,4],\n",
    "        [7,5],[7,2],[10,1],[10,3],[10,5],[11,3],[11,4],[12,2],[13,5]])\n",
    "q3_data = q3_data.reshape(25, 2)"
   ]
  },
  {
   "cell_type": "code",
   "execution_count": 6,
   "metadata": {},
   "outputs": [],
   "source": [
    "q3_labels = [1,1,1,1,1,1,1,1,1,1,2,2,2,2,2,2,2,3,3,3,3,3,3,3,3]"
   ]
  },
  {
   "cell_type": "code",
   "execution_count": 7,
   "metadata": {},
   "outputs": [],
   "source": [
    "data_1 = q3_data[0:10]\n",
    "data_2 = q3_data[10:17]\n",
    "data_3 = q3_data[17:25]"
   ]
  },
  {
   "cell_type": "markdown",
   "metadata": {},
   "source": [
    "### prior probabilities"
   ]
  },
  {
   "cell_type": "code",
   "execution_count": 8,
   "metadata": {},
   "outputs": [],
   "source": [
    "n = 25.0\n",
    "n1 = 10\n",
    "n2 = 7\n",
    "n3 = 8\n",
    "prior_1 = n1/n\n",
    "prior_2 = n2/n\n",
    "prior_3 = n3/n"
   ]
  },
  {
   "cell_type": "markdown",
   "metadata": {},
   "source": [
    "### mean and covariance"
   ]
  },
  {
   "cell_type": "code",
   "execution_count": 11,
   "metadata": {},
   "outputs": [
    {
     "name": "stdout",
     "output_type": "stream",
     "text": [
      "[5.8 3.9]\n"
     ]
    }
   ],
   "source": [
    "mean_1 = np.mean(data_1, axis=0)\n",
    "print(mean_1)"
   ]
  },
  {
   "cell_type": "code",
   "execution_count": 12,
   "metadata": {},
   "outputs": [
    {
     "name": "stdout",
     "output_type": "stream",
     "text": [
      "[5.28571429 4.        ]\n"
     ]
    }
   ],
   "source": [
    "mean_2 = np.mean(data_2, axis=0)\n",
    "print(mean_2)"
   ]
  },
  {
   "cell_type": "code",
   "execution_count": 13,
   "metadata": {},
   "outputs": [
    {
     "name": "stdout",
     "output_type": "stream",
     "text": [
      "[10.5    3.125]\n"
     ]
    }
   ],
   "source": [
    "mean_3 = np.mean(data_3, axis=0)\n",
    "print(mean_3)"
   ]
  },
  {
   "cell_type": "code",
   "execution_count": 14,
   "metadata": {},
   "outputs": [
    {
     "name": "stdout",
     "output_type": "stream",
     "text": [
      "[[ 5.16 -1.92]\n",
      " [-1.92  1.89]]\n"
     ]
    }
   ],
   "source": [
    "cov_1 = (data_1-mean_1).T.dot(data_1-mean_1)/n1\n",
    "print(cov_1)"
   ]
  },
  {
   "cell_type": "code",
   "execution_count": 15,
   "metadata": {},
   "outputs": [
    {
     "name": "stdout",
     "output_type": "stream",
     "text": [
      "[[2.48979592 0.28571429]\n",
      " [0.28571429 0.85714286]]\n"
     ]
    }
   ],
   "source": [
    "cov_2 = (data_2-mean_2).T.dot(data_2-mean_2)/n2\n",
    "print(cov_2)"
   ]
  },
  {
   "cell_type": "code",
   "execution_count": 16,
   "metadata": {},
   "outputs": [
    {
     "name": "stdout",
     "output_type": "stream",
     "text": [
      "[[2.75     0.9375  ]\n",
      " [0.9375   1.859375]]\n"
     ]
    }
   ],
   "source": [
    "cov_3 = (data_3-mean_3).T.dot(data_3-mean_3)/n3\n",
    "print(cov_3)"
   ]
  },
  {
   "cell_type": "markdown",
   "metadata": {},
   "source": [
    "### Full Bayes Classification"
   ]
  },
  {
   "cell_type": "code",
   "execution_count": 17,
   "metadata": {},
   "outputs": [],
   "source": [
    "sp1 = np.array([6, 5])\n",
    "sp2 = np.array([9, 4])\n",
    "sp3 = np.array([8, 5])"
   ]
  },
  {
   "cell_type": "code",
   "execution_count": 20,
   "metadata": {},
   "outputs": [],
   "source": [
    "def f(x, mean, covar):\n",
    "    return exp(-1*((x-mean).T.dot(linalg.inv(covar)).dot(x-mean))/2)/(sqrt(2*pi)**len(mean)* sqrt(linalg.det(covar)))"
   ]
  },
  {
   "cell_type": "code",
   "execution_count": 23,
   "metadata": {},
   "outputs": [
    {
     "name": "stdout",
     "output_type": "stream",
     "text": [
      "0.014321090702774673\n",
      "0.016839919333449322\n",
      "1.4308614699395212e-05\n"
     ]
    }
   ],
   "source": [
    "p1 = f(sp1, mean_1, cov_1)*prior_1\n",
    "print(p1)\n",
    "p2 = f(sp1, mean_2, cov_2)*prior_2\n",
    "print(p2)\n",
    "p3 = f(sp1, mean_3, cov_3)*prior_3\n",
    "print(p3)"
   ]
  },
  {
   "cell_type": "markdown",
   "metadata": {},
   "source": [
    "the first sample $(6,5)$ is classified as the second class since `p2` is the largest probability"
   ]
  },
  {
   "cell_type": "code",
   "execution_count": 24,
   "metadata": {},
   "outputs": [
    {
     "name": "stdout",
     "output_type": "stream",
     "text": [
      "0.0047182901627762265\n",
      "0.0017449166056990278\n",
      "0.00880760654750708\n"
     ]
    }
   ],
   "source": [
    "p1 = f(sp2, mean_1, cov_1)*prior_1\n",
    "print(p1)\n",
    "p2 = f(sp2, mean_2, cov_2)*prior_2\n",
    "print(p2)\n",
    "p3 = f(sp2, mean_3, cov_3)*prior_3\n",
    "print(p3)"
   ]
  },
  {
   "cell_type": "markdown",
   "metadata": {},
   "source": [
    "the second sample $(9,4)$ is classified as the third class since `p3` is the largest probability"
   ]
  },
  {
   "cell_type": "code",
   "execution_count": 25,
   "metadata": {},
   "outputs": [
    {
     "name": "stdout",
     "output_type": "stream",
     "text": [
      "0.0033791310381719934\n",
      "0.005313990861951303\n",
      "0.0007097556976462525\n"
     ]
    }
   ],
   "source": [
    "p1 = f(sp3, mean_1, cov_1)*prior_1\n",
    "print(p1)\n",
    "p2 = f(sp3, mean_2, cov_2)*prior_2\n",
    "print(p2)\n",
    "p3 = f(sp3, mean_3, cov_3)*prior_3\n",
    "print(p3)"
   ]
  },
  {
   "cell_type": "markdown",
   "metadata": {},
   "source": [
    "the third sample $(8,5)$ is classified as the second class since `p2` is the largest probability"
   ]
  },
  {
   "cell_type": "markdown",
   "metadata": {},
   "source": [
    "### naive bayes classification"
   ]
  },
  {
   "cell_type": "code",
   "execution_count": 212,
   "metadata": {},
   "outputs": [],
   "source": [
    "var_1 = np.diag(cov_1)\n",
    "var_2 = np.diag(cov_2)\n",
    "var_3 = np.diag(cov_3)"
   ]
  },
  {
   "cell_type": "code",
   "execution_count": 213,
   "metadata": {
    "collapsed": true
   },
   "outputs": [],
   "source": [
    "q3_model = {}\n",
    "q3_model[1] = (prior_1, mean_1, var_1)\n",
    "q3_model[2] = (prior_2, mean_2, var_2)\n",
    "q3_model[3] = (prior_3, mean_3, var_3)"
   ]
  },
  {
   "cell_type": "markdown",
   "metadata": {},
   "source": [
    "We can use the `Naive_Classify()` method that we implemented earlier to classify the 3 points."
   ]
  },
  {
   "cell_type": "code",
   "execution_count": 219,
   "metadata": {},
   "outputs": [
    {
     "name": "stdout",
     "output_type": "stream",
     "text": [
      "0.0152896866578948\n",
      "0.0139371975544692\n",
      "0.000220320259887943\n",
      "classified sample 1 as class 1\n",
      "0.00426963825108756\n",
      "0.0074361721512879\n",
      "0.0121770131525346\n",
      "classified sample 1 as class 3\n",
      "0.00724721053045382\n",
      "0.00813438233065963\n",
      "0.00280886779169209\n",
      "classified sample 1 as class 2\n"
     ]
    }
   ],
   "source": [
    "print \"classified sample 1 as class {}\".format(Naive_Classify(q3_model, sp1))\n",
    "print \"classified sample 1 as class {}\".format(Naive_Classify(q3_model, sp2))\n",
    "print \"classified sample 1 as class {}\".format(Naive_Classify(q3_model, sp3))"
   ]
  },
  {
   "cell_type": "markdown",
   "metadata": {},
   "source": [
    "### adding a new feature"
   ]
  },
  {
   "cell_type": "markdown",
   "metadata": {},
   "source": [
    "I did not completely understand the question. (and I didn't have time to solve it to be honest :) )"
   ]
  },
  {
   "cell_type": "code",
   "execution_count": null,
   "metadata": {
    "collapsed": true
   },
   "outputs": [],
   "source": []
  }
 ],
 "metadata": {
  "kernelspec": {
   "display_name": "Python 3",
   "language": "python",
   "name": "python3"
  },
  "language_info": {
   "codemirror_mode": {
    "name": "ipython",
    "version": 3
   },
   "file_extension": ".py",
   "mimetype": "text/x-python",
   "name": "python",
   "nbconvert_exporter": "python",
   "pygments_lexer": "ipython3",
   "version": "3.5.2"
  }
 },
 "nbformat": 4,
 "nbformat_minor": 1
}
