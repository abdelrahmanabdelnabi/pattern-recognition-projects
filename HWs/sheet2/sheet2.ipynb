{
 "cells": [
  {
   "cell_type": "markdown",
   "metadata": {},
   "source": [
    "# Sheet 2: Linear Discriminant Analysis"
   ]
  },
  {
   "cell_type": "code",
   "execution_count": 1,
   "metadata": {
    "collapsed": false
   },
   "outputs": [],
   "source": [
    "# insert figures in the notebook itself\n",
    "%matplotlib inline \n",
    "\n",
    "import numpy as np\n",
    "from numpy import linalg\n",
    "import matplotlib.pyplot as plt"
   ]
  },
  {
   "cell_type": "code",
   "execution_count": 2,
   "metadata": {
    "collapsed": true
   },
   "outputs": [],
   "source": [
    "from sklearn import datasets\n",
    "from sklearn.decomposition import PCA\n",
    "from sklearn.metrics.pairwise import cosine_similarity\n",
    "from sklearn.metrics.pairwise import euclidean_distances\n",
    "from mpl_toolkits.mplot3d import Axes3D"
   ]
  },
  {
   "cell_type": "code",
   "execution_count": 3,
   "metadata": {
    "collapsed": true
   },
   "outputs": [],
   "source": [
    "# set printing of matrices to 3 decimal places for clarity\n",
    "# this doesn't change the values stored inside the matrices\n",
    "np.set_printoptions(formatter={'float': lambda x: \"{0:0.3f}\".format(x)})"
   ]
  },
  {
   "cell_type": "code",
   "execution_count": 4,
   "metadata": {
    "collapsed": false
   },
   "outputs": [],
   "source": [
    "# a method to convert an np array/matrix to latex format\n",
    "def to_latex_mat(np_matrix, command='bmatrix'):\n",
    "    result = \"\"\n",
    "    result += \"\\\\begin{\" + command + \"}\"\n",
    "    for row in range(0,np_matrix.shape[0]):\n",
    "        string = \" & \".join(map(str,np_matrix[row]))\n",
    "        result += \"{} \\\\\\\\\".format(string)\n",
    "    result += \"\\end{\" + command + \"}\"\n",
    "    return result"
   ]
  },
  {
   "cell_type": "markdown",
   "metadata": {},
   "source": [
    "## Orthogonal Projection"
   ]
  },
  {
   "cell_type": "markdown",
   "metadata": {},
   "source": [
    "$$ u_1 = \\begin{bmatrix}\n",
    "3 \\\\ 4 \\\\ 0\n",
    "\\end{bmatrix}\n",
    "$$\n",
    "$$ u_2 = \\begin{bmatrix}\n",
    "-4 \\\\ 3 \\\\ 0\n",
    "\\end{bmatrix}\n",
    "$$\n",
    "\n",
    "$$ u_1 \\cdot u_2 = 3 \\times -4 + 4 \\times 3 + 0 \\times 0 = 0 $$\n",
    "The dot product of $u_1$ and $u_2$ is $0$ so the vectors are orthogonal (The projection of $u_1$ on $u_2$ is nothing)\n",
    "\n",
    "$$ y = \\begin{bmatrix}\n",
    "6 \\\\ 3 \\\\ -2\n",
    "\\end{bmatrix}\n",
    "$$\n",
    "\n",
    "The projection of $y$ on $u_1$ is\n",
    "\n",
    "$$ \\frac{u_1^Ty}{u_1^Tu_1}u_1 = \\frac{3 \\times 6 + 4 \\times 3 + 0 \\times -2}{3^2 + 4^2 + 0^2} \\begin{bmatrix}\n",
    "3 \\\\ 4 \\\\ 0 \n",
    "\\end{bmatrix}\n",
    "= \\begin{bmatrix} \\frac{18}{5} \\\\ \\frac{24}{5} \\\\ 0\\end{bmatrix}\n",
    "$$\n",
    "\n",
    "and similarly the projection of $y$ on $u_2$ is\n",
    "$$\n",
    "\\frac{-4 \\times 6 + 3 \\times 3 + 0 \\times -2}{(-4)^2 + 3^2 + 0^2} \\begin{bmatrix}\n",
    "-4 \\\\ 3 \\\\ 0\n",
    "\\end{bmatrix} = \\begin{bmatrix}\n",
    "2.4 \\\\ -1.8  \\\\ 0\n",
    "\\end{bmatrix}\n",
    "$$\n"
   ]
  },
  {
   "cell_type": "markdown",
   "metadata": {},
   "source": [
    "## Linear Discriminant Analysis"
   ]
  },
  {
   "cell_type": "markdown",
   "metadata": {},
   "source": [
    "$$Class_{-1} = \\begin{bmatrix}\n",
    "2 & 3 \\\\\n",
    "3 & 3 \\\\\n",
    "3 & 4 \\\\\n",
    "7 & 7 \\\\\n",
    "5 & 8\n",
    "\\end{bmatrix}\n",
    "Class_1 = \\begin{bmatrix}\n",
    "5 & 4 \\\\\n",
    "6 & 5 \\\\\n",
    "7 & 5 \\\\\n",
    "7 & 4 \\\\\n",
    "9 & 4 \\\\\n",
    "8 & 2\n",
    "\\end{bmatrix}$$\n",
    "\n",
    "$$u_{-1} = \\begin{bmatrix}\n",
    "4 \\\\ 5\n",
    "\\end{bmatrix}$$\n",
    "\n",
    "$$u_1 = \\begin{bmatrix}\n",
    "7 \\\\ 4\n",
    "\\end{bmatrix}$$\n",
    "\n",
    "The between class scatter matrix $B$ is\n",
    "$$\n",
    "(u_{-1} - u_1)(u_{-1} - u_{1})^T = \\begin{bmatrix}-3 \\\\ 1 \\end{bmatrix} \\begin{bmatrix}-3 & 1\\end{bmatrix} = \\begin{bmatrix}9 & -3 \\\\ -3 & 1\\end{bmatrix}\n",
    "$$"
   ]
  },
  {
   "cell_type": "code",
   "execution_count": 5,
   "metadata": {
    "collapsed": true
   },
   "outputs": [],
   "source": [
    "s_inv = np.array([[0.056, -0.029], [-0.029, 0.052]])\n",
    "B = np.array([[9, -3], [-3, 1]])"
   ]
  },
  {
   "cell_type": "code",
   "execution_count": 6,
   "metadata": {
    "collapsed": false
   },
   "outputs": [
    {
     "name": "stdout",
     "output_type": "stream",
     "text": [
      "[0.730 -0.000]\n",
      "[[0.817 0.316]\n",
      " [-0.577 0.949]]\n"
     ]
    }
   ],
   "source": [
    "eigenvalues, eigenvectors = linalg.eig( s_inv.dot(B))\n",
    "print eigenvalues\n",
    "print eigenvectors"
   ]
  },
  {
   "cell_type": "markdown",
   "metadata": {},
   "source": [
    "Given that\n",
    "\n",
    "$$ S^{-1} = \\begin{bmatrix}0.56 & -0.029 \\\\ -0.029 & 0.052\\end{bmatrix}$$\n",
    "\n",
    "Therefore we have that\n",
    "\n",
    "$$S^{-1}B = \\begin{bmatrix}0.56 & -0.029 \\\\ -0.029 & 0.052\\end{bmatrix} \\begin{bmatrix}9 & -3 \\\\ -3 & 1\\end{bmatrix} = \\begin{bmatrix}0.591 & -0.197 \\\\-0.417 & 0.139 \\\\\\end{bmatrix} $$\n",
    "\n",
    "using Python solvers, the eigenvector (i.e the best direction $w$ that discriminates between the classes) is\n",
    "\n",
    "$$ w = \\begin{bmatrix}0.817 \\\\ -0.577\\end{bmatrix}$$\n"
   ]
  },
  {
   "cell_type": "markdown",
   "metadata": {},
   "source": [
    "### plotting the best discriminant"
   ]
  },
  {
   "cell_type": "code",
   "execution_count": 7,
   "metadata": {
    "collapsed": true
   },
   "outputs": [],
   "source": [
    "class1 = [(2 , 3),(3 , 3),(3 , 4),(7 , 7),(5 , 8)]\n",
    "class2 = [(5 , 4),(6 , 5),(7 , 5),(7 , 4),(9 , 4),(8 , 2)]"
   ]
  },
  {
   "cell_type": "code",
   "execution_count": 8,
   "metadata": {
    "collapsed": false
   },
   "outputs": [
    {
     "data": {
      "text/plain": [
       "(-6, 9)"
      ]
     },
     "execution_count": 8,
     "metadata": {},
     "output_type": "execute_result"
    },
    {
     "data": {
      "image/png": "[encoded data removed]",
      "text/plain": [
       "<matplotlib.figure.Figure at 0xa4dad68>"
      ]
     },
     "metadata": {},
     "output_type": "display_data"
    }
   ],
   "source": [
    "x_val = [x[0] for x in class1]\n",
    "y_val = [x[1] for x in class1]\n",
    "fig = plt.figure()\n",
    "ax = fig.add_subplot('111')\n",
    "ax.plot(x_val, y_val, '^')\n",
    "x_val = [x[0] for x in class2]\n",
    "y_val = [x[1] for x in class2]\n",
    "ax.plot(x_val, y_val, 'o')\n",
    "ax.plot([0, 0.817*12], [0, -0.577*12])\n",
    "ax.set_ylim(-6, 9)"
   ]
  },
  {
   "cell_type": "markdown",
   "metadata": {},
   "source": [
    "## Question 3"
   ]
  },
  {
   "cell_type": "code",
   "execution_count": 9,
   "metadata": {
    "collapsed": false
   },
   "outputs": [],
   "source": [
    "class_1 = np.array([[4, 2, 9],[3, 5, 4]])\n",
    "class_2 = np.array([[2, 5, 1], [2, 2, 1]])"
   ]
  },
  {
   "cell_type": "code",
   "execution_count": 10,
   "metadata": {
    "collapsed": false
   },
   "outputs": [
    {
     "name": "stdout",
     "output_type": "stream",
     "text": [
      "[3.500 3.500 6.500]\n",
      "[2.000 3.500 1.000]\n"
     ]
    }
   ],
   "source": [
    "u1 = np.mean(class_1, axis=0)\n",
    "u2 = np.mean(class_2, axis=0)\n",
    "print u1\n",
    "print u2"
   ]
  },
  {
   "cell_type": "code",
   "execution_count": 11,
   "metadata": {
    "collapsed": false
   },
   "outputs": [],
   "source": [
    "diff = u1-u2\n",
    "diff = diff.reshape(3, 1)"
   ]
  },
  {
   "cell_type": "code",
   "execution_count": 12,
   "metadata": {
    "collapsed": false
   },
   "outputs": [],
   "source": [
    "B = diff.dot(diff.T)"
   ]
  },
  {
   "cell_type": "markdown",
   "metadata": {},
   "source": [
    "$$B = \\begin{bmatrix}2.25 & 0.0 & 8.25 \\\\0.0 & 0.0 & 0.0 \\\\8.25 & 0.0 & 30.25 \\\\\n",
    "\\end{bmatrix}$$"
   ]
  },
  {
   "cell_type": "markdown",
   "metadata": {},
   "source": [
    "### within class scatter matrices"
   ]
  },
  {
   "cell_type": "code",
   "execution_count": 13,
   "metadata": {
    "collapsed": false
   },
   "outputs": [],
   "source": [
    "centered_1 = class_1 - u1\n",
    "s1 = centered_1.T.dot(centered_1)"
   ]
  },
  {
   "cell_type": "code",
   "execution_count": 14,
   "metadata": {
    "collapsed": false
   },
   "outputs": [],
   "source": [
    "centered_2 = class_2 - u2\n",
    "s2 = centered_2.T.dot(centered_2)"
   ]
  },
  {
   "cell_type": "markdown",
   "metadata": {},
   "source": [
    "$$S_1 = \\begin{bmatrix}0.5 & -1.5 & 2.5 \\\\-1.5 & 4.5 & -7.5 \\\\2.5 & -7.5 & 12.5 \\\\\\end{bmatrix}\n",
    "S_2 = \\begin{bmatrix}0.0 & 0.0 & 0.0 \\\\0.0 & 4.5 & 0.0 \\\\0.0 & 0.0 & 0.0 \\\\\\end{bmatrix}$$"
   ]
  },
  {
   "cell_type": "code",
   "execution_count": 15,
   "metadata": {
    "collapsed": false,
    "scrolled": true
   },
   "outputs": [],
   "source": [
    "s = s1 + s2"
   ]
  },
  {
   "cell_type": "markdown",
   "metadata": {},
   "source": [
    "$$ S = \\begin{bmatrix}0.5 & -1.5 & 2.5 \\\\-1.5 & 9.0 & -7.5 \\\\2.5 & -7.5 & 12.5 \\\\\\end{bmatrix}$$"
   ]
  },
  {
   "cell_type": "markdown",
   "metadata": {},
   "source": [
    "The matrix $S$ should be a singular matrix since the number of instances in each class is less than the number of dimensions. We can verify this by calculating the determinant of $S$ which turns out to be $1.56125112838e-15$, a very small number that is almost zero but is not due to floating point precision. We can continue our calculations based on this result. I believe that the resulting eigenvectors will be a close estimate of the real value. In reality however, we should perform dimensionality reduction using PCA to reduce the number of dimensions $d$ such that it becomes less than the number of instances in each class, so that the we can perform LDA and end up with a nonsingular $S$ matrix."
   ]
  },
  {
   "cell_type": "code",
   "execution_count": 16,
   "metadata": {
    "collapsed": false
   },
   "outputs": [
    {
     "name": "stdout",
     "output_type": "stream",
     "text": [
      "1.56125112838e-15\n"
     ]
    }
   ],
   "source": [
    "# The determinant is almost 0 and the matrix is singular\n",
    "print linalg.det(s)"
   ]
  },
  {
   "cell_type": "markdown",
   "metadata": {},
   "source": [
    "### LDA direction"
   ]
  },
  {
   "cell_type": "code",
   "execution_count": 17,
   "metadata": {
    "collapsed": false
   },
   "outputs": [],
   "source": [
    "evalues, evectors = linalg.eig(linalg.inv(s).dot(B))"
   ]
  },
  {
   "cell_type": "markdown",
   "metadata": {},
   "source": [
    "$$ eigenvalues = \\begin{bmatrix}0.000 & 5764607523034250.000 & -6.000\n",
    "\\end{bmatrix}$$"
   ]
  },
  {
   "cell_type": "markdown",
   "metadata": {},
   "source": [
    "$$eigenvectors = \\begin{bmatrix}0.0 & 0.980 & -0.964 \\\\1.0 & 8.860e-17 & 1.862e-18 \\\\0.0 & -0.196 & 0.263 \\\\\\end{bmatrix}$$"
   ]
  },
  {
   "cell_type": "markdown",
   "metadata": {},
   "source": [
    "$w$ is the eigenvector corresponding to eigenvalue of the highest value.\n",
    "\n",
    "$$ w = \\begin{bmatrix} 0.981 \\\\ 0 \\\\ -0.196\\end{bmatrix}$$\n",
    "\n",
    "My hypothesis is that the point on $w$ that best separates the two classes is the point midway between the projected means of the two classes on $w$."
   ]
  },
  {
   "cell_type": "code",
   "execution_count": 18,
   "metadata": {
    "collapsed": false
   },
   "outputs": [
    {
     "name": "stdout",
     "output_type": "stream",
     "text": [
      "2.15727748652 1.76504521624\n",
      "1.96116135138\n"
     ]
    }
   ],
   "source": [
    "w = evectors[:,1]\n",
    "m1 = w.T.dot(u1)\n",
    "m2 = w.T.dot(u2)\n",
    "print m1, m2\n",
    "\n",
    "midpoint = (m1 + m2)/2\n",
    "print midpoint"
   ]
  },
  {
   "cell_type": "markdown",
   "metadata": {},
   "source": [
    "The projected means, $m1 = 2.157$ and $m2 = 1.765$ are the offset from $(0,0)$ along the line $w$. The midpoint is therefore $\\frac{m_1 + m_2}{2} = 1.961$"
   ]
  },
  {
   "cell_type": "markdown",
   "metadata": {},
   "source": [
    "## Midterm Question"
   ]
  },
  {
   "cell_type": "code",
   "execution_count": 19,
   "metadata": {
    "collapsed": true
   },
   "outputs": [],
   "source": [
    "class_1 = np.array([[1, 1], [2, 1],[1, 2]])\n",
    "class_2 = np.array([[2, 2], [3, 2]])"
   ]
  },
  {
   "cell_type": "markdown",
   "metadata": {},
   "source": [
    "### mean vector and between class scatter matrix"
   ]
  },
  {
   "cell_type": "code",
   "execution_count": 20,
   "metadata": {
    "collapsed": false
   },
   "outputs": [],
   "source": [
    "u1 = np.mean(class_1, axis=0)\n",
    "u2 = np.mean(class_2, axis=0)"
   ]
  },
  {
   "cell_type": "markdown",
   "metadata": {},
   "source": [
    "$$u_1 = \\begin{bmatrix}1.333 \\\\1.333 \\\\\\end{bmatrix} $$\n",
    "\n",
    "$$u_2 = \\begin{bmatrix}2.5 \\\\2.0 \\\\\\end{bmatrix} $$"
   ]
  },
  {
   "cell_type": "code",
   "execution_count": 21,
   "metadata": {
    "collapsed": false
   },
   "outputs": [],
   "source": [
    "diff = u1 - u2\n",
    "diff.reshape(2, 1)\n",
    "B = diff.dot(diff.T)"
   ]
  },
  {
   "cell_type": "markdown",
   "metadata": {},
   "source": [
    "$$ B = \\begin{bmatrix}1.361 & 0.777 \\\\0.777 & 0.444 \\\\\\end{bmatrix} $$"
   ]
  },
  {
   "cell_type": "markdown",
   "metadata": {},
   "source": [
    "### within class scatter matrices"
   ]
  },
  {
   "cell_type": "code",
   "execution_count": 22,
   "metadata": {
    "collapsed": false
   },
   "outputs": [],
   "source": [
    "centered_1 = class_1 - u1\n",
    "s1 = centered_1.T.dot(centered_1)"
   ]
  },
  {
   "cell_type": "code",
   "execution_count": 23,
   "metadata": {
    "collapsed": true
   },
   "outputs": [],
   "source": [
    "centered_2 = class_2 - u2\n",
    "s2 = centered_2.T.dot(centered_2)"
   ]
  },
  {
   "cell_type": "markdown",
   "metadata": {},
   "source": [
    "$$ S_1= \\begin{bmatrix}0.666 & -0.333 \\\\-0.333 & 0.666 \\\\\\end{bmatrix}\n",
    "S_2 = \\begin{bmatrix}0.5 & 0.0 \\\\0.0 & 0.0 \\\\\\end{bmatrix}$$"
   ]
  },
  {
   "cell_type": "code",
   "execution_count": 24,
   "metadata": {
    "collapsed": false,
    "scrolled": true
   },
   "outputs": [
    {
     "name": "stdout",
     "output_type": "stream",
     "text": [
      "0.666666666667\n"
     ]
    }
   ],
   "source": [
    "s = s1 + s2\n",
    "print linalg.det(s)"
   ]
  },
  {
   "cell_type": "markdown",
   "metadata": {},
   "source": [
    "$$ S = \\begin{bmatrix}1.166 & -0.333 \\\\-0.333 & 0.666 \\\\\\end{bmatrix} $$"
   ]
  },
  {
   "cell_type": "markdown",
   "metadata": {},
   "source": [
    "### plotting the best discriminant"
   ]
  },
  {
   "cell_type": "code",
   "execution_count": 25,
   "metadata": {
    "collapsed": false
   },
   "outputs": [
    {
     "name": "stdout",
     "output_type": "stream",
     "text": [
      "[1.354 3.611]\n",
      "[[-0.894 -0.447]\n",
      " [0.447 -0.894]]\n"
     ]
    }
   ],
   "source": [
    "evalues, evectors = linalg.eig(linalg.inv(s).dot(B))\n",
    "print evalues\n",
    "print evectors\n",
    "w = evectors[:,1]"
   ]
  },
  {
   "cell_type": "code",
   "execution_count": 26,
   "metadata": {
    "collapsed": false
   },
   "outputs": [
    {
     "data": {
      "text/plain": [
       "[<matplotlib.lines.Line2D at 0xb0afe80>]"
      ]
     },
     "execution_count": 26,
     "metadata": {},
     "output_type": "execute_result"
    },
    {
     "data": {
      "image/png": "[encoded data removed]",
      "text/plain": [
       "<matplotlib.figure.Figure at 0xa6b75f8>"
      ]
     },
     "metadata": {},
     "output_type": "display_data"
    }
   ],
   "source": [
    "fig = plt.figure()\n",
    "ax = fig.add_subplot(111)\n",
    "ax.plot(class_1[:,0], class_1[:,1], 'o')\n",
    "ax.plot(class_2[:,0], class_2[:,1], '^')\n",
    "ax.set_xlim(0, 4)\n",
    "ax.set_ylim(0, 3)\n",
    "# a hack to plot the part on the line in the first quadrant\n",
    "ax.plot([0,-0.447 * -10], [0, -0.894 * -10])"
   ]
  }
 ],
 "metadata": {
  "kernelspec": {
   "display_name": "Python 3",
   "language": "python",
   "name": "python3"
  },
  "language_info": {
   "codemirror_mode": {
    "name": "ipython",
    "version": 3
   },
   "file_extension": ".py",
   "mimetype": "text/x-python",
   "name": "python",
   "nbconvert_exporter": "python",
   "pygments_lexer": "ipython3",
   "version": "3.5.2"
  }
 },
 "nbformat": 4,
 "nbformat_minor": 2
}
