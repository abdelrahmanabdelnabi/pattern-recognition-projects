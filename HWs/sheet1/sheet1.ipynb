{
 "cells": [
  {
   "cell_type": "markdown",
   "metadata": {},
   "source": [
    "# Sheet 1: Principal Component Analysis"
   ]
  },
  {
   "cell_type": "code",
   "execution_count": 2,
   "metadata": {
    "collapsed": true
   },
   "outputs": [],
   "source": [
    "%matplotlib inline\n",
    "\n",
    "import numpy as np\n",
    "from numpy import linalg\n",
    "import matplotlib.pyplot as plt"
   ]
  },
  {
   "cell_type": "code",
   "execution_count": 3,
   "metadata": {
    "collapsed": true
   },
   "outputs": [],
   "source": [
    "from sklearn import datasets\n",
    "from sklearn.decomposition import PCA\n",
    "from sklearn.metrics.pairwise import cosine_similarity\n",
    "from sklearn.metrics.pairwise import euclidean_distances\n",
    "from mpl_toolkits.mplot3d import Axes3D"
   ]
  },
  {
   "cell_type": "code",
   "execution_count": 4,
   "metadata": {
    "collapsed": true
   },
   "outputs": [],
   "source": [
    "# set printing of matrices to 3 decimal places for clarity\n",
    "# this doesn't change the values stored inside the matrices\n",
    "np.set_printoptions(formatter={'float': lambda x: \"{0:0.3f}\".format(x)})"
   ]
  },
  {
   "cell_type": "markdown",
   "metadata": {},
   "source": [
    "## Question 2"
   ]
  },
  {
   "cell_type": "code",
   "execution_count": 5,
   "metadata": {
    "collapsed": true
   },
   "outputs": [],
   "source": [
    "data_matrix = np.array([[10, 60, 10, 90],\n",
    "                        [20, 50, 40, 70],\n",
    "                        [30, 50, 30, 40],\n",
    "                        [20, 50, 20, 60],\n",
    "                        [10, 60, 30, 10]])"
   ]
  },
  {
   "cell_type": "code",
   "execution_count": 6,
   "metadata": {},
   "outputs": [
    {
     "name": "stdout",
     "output_type": "stream",
     "text": [
      "[109.087 96.954 76.811 83.066 68.557]\n"
     ]
    }
   ],
   "source": [
    "norm = linalg.norm(data_matrix, axis=1)\n",
    "print norm"
   ]
  },
  {
   "cell_type": "code",
   "execution_count": 22,
   "metadata": {},
   "outputs": [
    {
     "name": "stdout",
     "output_type": "stream",
     "text": [
      "[[1.000 0.990 0.898 0.982 0.687]\n",
      " [0.990 1.000 0.945 0.997 0.716]\n",
      " [0.898 0.945 1.000 0.965 0.849]\n",
      " [0.982 0.997 0.965 1.000 0.765]\n",
      " [0.687 0.716 0.849 0.765 1.000]]\n"
     ]
    }
   ],
   "source": [
    "cosine_sim = cosine_similarity(data_matrix)\n",
    "#plt.imshow(cosine_similarity)\n",
    "#plt.show()\n",
    "print cosine_sim"
   ]
  },
  {
   "cell_type": "code",
   "execution_count": 8,
   "metadata": {},
   "outputs": [
    {
     "data": {
      "text/plain": [
       "array([[0.000, 38.730, 58.310, 34.641, 82.462],\n",
       "       [38.730, 0.000, 33.166, 22.361, 62.450],\n",
       "       [58.310, 33.166, 0.000, 24.495, 37.417],\n",
       "       [34.641, 22.361, 24.495, 0.000, 52.915],\n",
       "       [82.462, 62.450, 37.417, 52.915, 0.000]])"
      ]
     },
     "execution_count": 8,
     "metadata": {},
     "output_type": "execute_result"
    }
   ],
   "source": [
    "euclidean_distances(data_matrix)"
   ]
  },
  {
   "cell_type": "markdown",
   "metadata": {},
   "source": [
    "## Question 3"
   ]
  },
  {
   "cell_type": "code",
   "execution_count": 9,
   "metadata": {
    "collapsed": true
   },
   "outputs": [],
   "source": [
    "data_matrix = np.array([[10, 60, 90],\n",
    "                        [20, 50, 70],\n",
    "                        [30, 50, 40],\n",
    "                        [20, 50, 60],\n",
    "                       [10, 60, 10]])"
   ]
  },
  {
   "cell_type": "markdown",
   "metadata": {},
   "source": [
    "### Scatter Plot"
   ]
  },
  {
   "cell_type": "code",
   "execution_count": 10,
   "metadata": {},
   "outputs": [
    {
     "data": {
      "text/plain": [
       "<mpl_toolkits.mplot3d.art3d.Path3DCollection at 0xa96e320>"
      ]
     },
     "execution_count": 10,
     "metadata": {},
     "output_type": "execute_result"
    },
    {
     "data": {
      "image/png": "[encoded data removed]",
      "text/plain": [
       "<matplotlib.figure.Figure at 0xa7c74a8>"
      ]
     },
     "metadata": {},
     "output_type": "display_data"
    }
   ],
   "source": [
    "fig = plt.figure()\n",
    "ax = fig.add_subplot(111, projection='3d')\n",
    "ax.scatter(data_matrix[:,0], data_matrix[:,1], data_matrix[:,2], marker='o')"
   ]
  },
  {
   "cell_type": "markdown",
   "metadata": {
    "collapsed": true
   },
   "source": [
    "### Mean Vector and data centering"
   ]
  },
  {
   "cell_type": "code",
   "execution_count": 11,
   "metadata": {},
   "outputs": [
    {
     "name": "stdout",
     "output_type": "stream",
     "text": [
      "[18.000 54.000 54.000]\n"
     ]
    }
   ],
   "source": [
    "mean = np.mean(data_matrix, axis=0)\n",
    "print mean"
   ]
  },
  {
   "cell_type": "code",
   "execution_count": 23,
   "metadata": {},
   "outputs": [
    {
     "name": "stdout",
     "output_type": "stream",
     "text": [
      "[[-8.000 6.000 36.000]\n",
      " [2.000 -4.000 16.000]\n",
      " [12.000 -4.000 -14.000]\n",
      " [2.000 -4.000 6.000]\n",
      " [-8.000 6.000 -44.000]]\n"
     ]
    }
   ],
   "source": [
    "centered_data = np.empty([5,3])\n",
    "for i in range(0,3):\n",
    "    centered_data[:,i] = data_matrix[:,i] - mean[i]\n",
    "print centered_data"
   ]
  },
  {
   "cell_type": "markdown",
   "metadata": {},
   "source": [
    "### covariance matrix"
   ]
  },
  {
   "cell_type": "code",
   "execution_count": 13,
   "metadata": {},
   "outputs": [
    {
     "name": "stdout",
     "output_type": "stream",
     "text": [
      "[[70.000 -40.000 -15.000]\n",
      " [-40.000 30.000 -20.000]\n",
      " [-15.000 -20.000 930.000]]\n"
     ]
    }
   ],
   "source": [
    "# rowvar=False means that columns are variables (and rows are instances)\n",
    "covariance = np.cov(centered_data, rowvar=False)\n",
    "print covariance"
   ]
  },
  {
   "cell_type": "markdown",
   "metadata": {},
   "source": [
    "### eigen values and eigen vectors"
   ]
  },
  {
   "cell_type": "code",
   "execution_count": 14,
   "metadata": {},
   "outputs": [],
   "source": [
    "eigenvalues, eigenvectors = linalg.eigh(covariance)"
   ]
  },
  {
   "cell_type": "code",
   "execution_count": 29,
   "metadata": {},
   "outputs": [
    {
     "name": "stdout",
     "output_type": "stream",
     "text": [
      "4.60865706553, [0.526 0.850 0.027]\n",
      "94.7153745646, [0.850 -0.526 0.003]\n",
      "930.67596837, [-0.016 -0.021 1.000]\n"
     ]
    }
   ],
   "source": [
    "for i in range(0,3):\n",
    "    print \"{}, {}\".format(eigenvalues[i], eigenvectors[:,i])"
   ]
  },
  {
   "cell_type": "code",
   "execution_count": 16,
   "metadata": {},
   "outputs": [
    {
     "name": "stdout",
     "output_type": "stream",
     "text": [
      "[[0.526 0.850 0.027]\n",
      " [0.850 -0.526 0.003]\n",
      " [-0.016 -0.021 1.000]]\n"
     ]
    }
   ],
   "source": [
    "# verify that (eigenvec * (eigenvals * eigenvec.transpose)) = Covariance\n",
    "np.matmul(eigenvectors, np.matmul(np.diag(eigenvalues),eigenvectors.transpose()))\n",
    "print eigenvectors.transpose()"
   ]
  },
  {
   "cell_type": "markdown",
   "metadata": {},
   "source": [
    "### variance and projection to lower dimensions"
   ]
  },
  {
   "cell_type": "markdown",
   "metadata": {},
   "source": [
    "The variance by the eigenvector of the largest eigenvalue corresponds to $\\frac{930.7}{930.7 + 94.7 + 4.6} = 0.903$ of the total variance which is good enough to represent the original dataset."
   ]
  },
  {
   "cell_type": "code",
   "execution_count": 36,
   "metadata": {},
   "outputs": [],
   "source": [
    "# compute the projection matrix\n",
    "# (column vectors corresponding to the eigenvectors of the highest eigenvalues)\n",
    "proj_matrix = np.column_stack((eigenvectors[:,2], eigenvectors[:,1]))\n"
   ]
  },
  {
   "cell_type": "markdown",
   "metadata": {},
   "source": [
    "The projection matrix $P$ corresponding to the top two eigen vectors of the martix $U$ is\n",
    "$$ P = \\begin{bmatrix} \n",
    "-0.016 & 0.850 \\\\\n",
    "-0.021 & -0.526 \\\\\n",
    "1.000 & 0.003 \\\\\n",
    "\\end{bmatrix}\n",
    "$$"
   ]
  },
  {
   "cell_type": "markdown",
   "metadata": {},
   "source": [
    "The projected data is just transforming the original dataset to the new subspace by applying the projection matrix on the dataset."
   ]
  },
  {
   "cell_type": "code",
   "execution_count": 41,
   "metadata": {},
   "outputs": [
    {
     "name": "stdout",
     "output_type": "stream",
     "text": [
      "[[88.515 -22.839]\n",
      " [68.573 -9.126]\n",
      " [38.419 -0.704]\n",
      " [58.576 -9.153]\n",
      " [8.544 -23.052]]\n"
     ]
    }
   ],
   "source": [
    "# computing the projected data\n",
    "proj_data = data_matrix.dot(proj_matrix)\n",
    "print proj_data"
   ]
  },
  {
   "cell_type": "markdown",
   "metadata": {},
   "source": [
    "$$ ProjData = \\begin{bmatrix} \n",
    "88.515 & -22.839 \\\\\n",
    "68.573 & -9.126 \\\\\n",
    "38.419 & -0.704 \\\\\n",
    "58.576 & -9.153 \\\\\n",
    "8.544 & -23.052\n",
    "\\end{bmatrix}\n",
    "$$"
   ]
  },
  {
   "cell_type": "markdown",
   "metadata": {},
   "source": [
    "### Plotting the new projected data"
   ]
  },
  {
   "cell_type": "code",
   "execution_count": 42,
   "metadata": {},
   "outputs": [
    {
     "data": {
      "text/plain": [
       "<matplotlib.collections.PathCollection at 0xb868898>"
      ]
     },
     "execution_count": 42,
     "metadata": {},
     "output_type": "execute_result"
    },
    {
     "data": {
      "image/png": "[encoded data removed]",
      "text/plain": [
       "<matplotlib.figure.Figure at 0xb661518>"
      ]
     },
     "metadata": {},
     "output_type": "display_data"
    }
   ],
   "source": [
    "fig = plt.figure()\n",
    "ax = fig.add_subplot(111)\n",
    "ax.scatter(proj_data[:,0], proj_data[:,1], marker='o')"
   ]
  }
 ],
 "metadata": {
  "kernelspec": {
   "display_name": "Python 3",
   "language": "python",
   "name": "python3"
  },
  "language_info": {
   "codemirror_mode": {
    "name": "ipython",
    "version": 3
   },
   "file_extension": ".py",
   "mimetype": "text/x-python",
   "name": "python",
   "nbconvert_exporter": "python",
   "pygments_lexer": "ipython3",
   "version": "3.5.2"
  }
 },
 "nbformat": 4,
 "nbformat_minor": 1
}
