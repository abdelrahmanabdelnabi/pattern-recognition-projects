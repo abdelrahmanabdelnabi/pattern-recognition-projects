{
 "cells": [
  {
   "cell_type": "markdown",
   "metadata": {},
   "source": [
    "# Sheet 8: Clustering Evaluation"
   ]
  },
  {
   "cell_type": "code",
   "execution_count": 16,
   "metadata": {
    "collapsed": true
   },
   "outputs": [],
   "source": [
    "from math import sqrt, log\n",
    "import numpy as np\n",
    "from numpy.linalg import norm\n",
    "from numpy.linalg import eig\n",
    "from scipy.linalg import eigh\n",
    "import matplotlib.pyplot as plt\n",
    "from mpl_toolkits.mplot3d import Axes3D\n",
    "from sklearn.metrics.pairwise import rbf_kernel\n",
    "from sklearn.neighbors import kneighbors_graph\n",
    "from sklearn.metrics.cluster import contingency_matrix\n",
    "from sklearn.cluster import KMeans\n",
    "%matplotlib inline"
   ]
  },
  {
   "cell_type": "markdown",
   "metadata": {},
   "source": [
    "## Conditional Entropy"
   ]
  },
  {
   "cell_type": "markdown",
   "metadata": {},
   "source": [
    "$$H(T \\vert C) = - \\sum_{i=1}^r \\sum_{j=1}^k \\left(\\frac{n_{ij}}{n}\\right) log \\left(\\frac{n_{ij}}{n_i}\\right)$$"
   ]
  },
  {
   "cell_type": "code",
   "execution_count": 52,
   "metadata": {
    "collapsed": true
   },
   "outputs": [],
   "source": [
    "def cond_entropy(y, y_hat):\n",
    "    assert len(y) == len(y_hat)\n",
    "    n = len(y) * 1.0\n",
    "    k, r = len(np.unique(y)), len(np.unique(y_hat))\n",
    "    c_keys, c_sizes = np.unique(y_hat, return_counts=True)\n",
    "    c_sizes = dict(zip(c_keys, c_sizes))\n",
    "    cont_mat = contingency_matrix(y, y_hat).T\n",
    "    res = 0\n",
    "    for i in range(r):\n",
    "        for j in range(k):\n",
    "            if cont_mat[i][j] != 0:\n",
    "                res += cont_mat[i][j]/n * log(1.0*cont_mat[i][j]/c_sizes[i], 2)\n",
    "    return res*-1"
   ]
  },
  {
   "cell_type": "markdown",
   "metadata": {},
   "source": [
    "### Purity"
   ]
  },
  {
   "cell_type": "markdown",
   "metadata": {},
   "source": [
    "$$purity = \\frac{1}{n} \\sum_{i=1}^{k} \\max_{j=1}^k n_{ij}$$"
   ]
  },
  {
   "cell_type": "code",
   "execution_count": null,
   "metadata": {
    "collapsed": true
   },
   "outputs": [],
   "source": [
    "def purity(y, y_hat):\n",
    "    cont_mat = contingency_matrix(y, y_hat).T\n",
    "    return sum([max(cont_mat[i]) for i in range(r)])/n"
   ]
  },
  {
   "cell_type": "markdown",
   "metadata": {},
   "source": [
    "## Pairwise measures"
   ]
  },
  {
   "cell_type": "code",
   "execution_count": null,
   "metadata": {
    "collapsed": true
   },
   "outputs": [],
   "source": [
    "def pairwise_measure(y, y_hat, index='jaccard'):\n",
    "    \"\"\"\n",
    "    returns a similarity index of a labeling, given true and predicted labels.\n",
    "    index is either 'jaccard' or 'rand' indicating which index to use.\n",
    "    \"\"\"\n",
    "    assert len(y) == len(y_hat)\n",
    "    assert index == 'jaccard' or index == 'rand'\n",
    "\n",
    "    n = len(y)\n",
    "    fp,fn,tp,tn = 0,0,0,0\n",
    "    \n",
    "    for i in range(n):\n",
    "        for j in range(n):\n",
    "            if y[i] == y[j]:\n",
    "                if y_hat[i] == y_hat[j]:\n",
    "                    tp += 1\n",
    "                else:\n",
    "                    fn += 1\n",
    "            else:\n",
    "                if y_hat[i] == y_hat[j]:\n",
    "                    fp += 1\n",
    "                else:\n",
    "                    tp += 1\n",
    "    \n",
    "    if index == 'jaccard':\n",
    "        return 1.0*tp/(tp+fn+fp)\n",
    "    else:\n",
    "        return 1.0*(tp+tn)/n"
   ]
  },
  {
   "cell_type": "markdown",
   "metadata": {},
   "source": [
    "# Testing on some data"
   ]
  },
  {
   "cell_type": "code",
   "execution_count": 53,
   "metadata": {},
   "outputs": [
    {
     "data": {
      "image/png": "[encoded data removed]",
      "text/plain": [
       "<Figure size 432x288 with 1 Axes>"
      ]
     },
     "metadata": {},
     "output_type": "display_data"
    }
   ],
   "source": [
    "X = np.array([[2,4],[3,4],[3,3],[5,4],[5,6],[5,8],[6,4],[6,5],[6,7],\n",
    "        [7,3],[7,4],[8,2],[9,4],[10,6],[10,7],[10,8],[11,5],\n",
    "        [11,8],[12,7],[13,6],[13,7],[14,6],[15,4],[15,5]])\n",
    "y = [0, 0, 0, 1, 1, 1, 1, 1, 1, 1, 1, 1, 1, 2, 2, 2, 2, 2, 2, 2, 2, 2, 2, 2]\n",
    "\n",
    "plt.figure()\n",
    "plt.grid(True)\n",
    "plt.title('Test Data')\n",
    "plt.scatter(X[:,0], X[:,1])\n",
    "plt.show()"
   ]
  },
  {
   "cell_type": "code",
   "execution_count": 54,
   "metadata": {},
   "outputs": [
    {
     "name": "stdout",
     "output_type": "stream",
     "text": [
      "0.42214782853321275\n",
      "0.5782102893160785\n",
      "0.318144667641655\n",
      "-0.0\n",
      "0.1147869792568112\n"
     ]
    }
   ],
   "source": [
    "Ks = [2,3,4,5,6]\n",
    "for k in Ks:\n",
    "    labels = KMeans(n_clusters=k).fit(X).labels_\n",
    "    print(cond_entropy(y, labels))"
   ]
  }
 ],
 "metadata": {
  "kernelspec": {
   "display_name": "Python 3",
   "language": "python",
   "name": "python3"
  },
  "language_info": {
   "codemirror_mode": {
    "name": "ipython",
    "version": 3
   },
   "file_extension": ".py",
   "mimetype": "text/x-python",
   "name": "python",
   "nbconvert_exporter": "python",
   "pygments_lexer": "ipython3",
   "version": "3.5.2"
  }
 },
 "nbformat": 4,
 "nbformat_minor": 2
}
